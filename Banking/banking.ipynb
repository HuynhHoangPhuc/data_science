{
 "cells": [
  {
   "cell_type": "code",
   "execution_count": 37,
   "metadata": {
    "ExecuteTime": {
     "end_time": "2023-07-01T08:18:24.487119Z",
     "start_time": "2023-07-01T08:18:24.377313Z"
    },
    "editable": true,
    "slideshow": {
     "slide_type": ""
    },
    "tags": []
   },
   "outputs": [],
   "source": [
    "import os\n",
    "import ray\n",
    "import joblib\n",
    "import numpy as np\n",
    "import modin.pandas as pd\n",
    "import matplotlib.pyplot as plt\n",
    "import seaborn as sns\n",
    "import pingouin as pg\n",
    "import torch\n",
    "import torch.nn as nn\n",
    "from sklearn.preprocessing import OneHotEncoder, StandardScaler\n",
    "from sklearn.model_selection import train_test_split\n",
    "from sklearn.compose import make_column_selector, ColumnTransformer\n",
    "from sklearn.pipeline import make_pipeline\n",
    "from sklearn.svm import LinearSVR\n",
    "from sklearn.ensemble import BaggingRegressor\n",
    "from sklearn.metrics import mean_absolute_error\n",
    "from ray.util.joblib import register_ray\n",
    "from matplotlib_inline.backend_inline import set_matplotlib_formats"
   ]
  },
  {
   "cell_type": "code",
   "execution_count": 2,
   "metadata": {
    "ExecuteTime": {
     "end_time": "2023-07-01T08:18:25.247092Z",
     "start_time": "2023-07-01T08:18:25.239795Z"
    }
   },
   "outputs": [],
   "source": [
    "env = {\n",
    "    'data_path': os.path.join(os.getcwd(), 'Banking.csv'),\n",
    "}"
   ]
  },
  {
   "cell_type": "code",
   "execution_count": 3,
   "metadata": {
    "ExecuteTime": {
     "end_time": "2023-07-01T08:18:26.320283Z",
     "start_time": "2023-07-01T08:18:26.315718Z"
    }
   },
   "outputs": [
    {
     "name": "stderr",
     "output_type": "stream",
     "text": [
      "2023-07-02 16:36:34,795\tINFO worker.py:1627 -- Started a local Ray instance. View the dashboard at \u001b[1m\u001b[32mhttp://127.0.0.1:8265 \u001b[39m\u001b[22m\n"
     ]
    }
   ],
   "source": [
    "def config() -> None:\n",
    "    ray.init(runtime_env={'env_vars': {'__MODIN_AUTOIMPORT_PANDAS__': '1'}})\n",
    "    register_ray()\n",
    "    sns.set_style('ticks')\n",
    "    sns.set_context('notebook', rc={\n",
    "        'figure.dpi': 100,\n",
    "    })\n",
    "    set_matplotlib_formats('retina')\n",
    "\n",
    "\n",
    "config()"
   ]
  },
  {
   "cell_type": "code",
   "execution_count": 19,
   "metadata": {
    "ExecuteTime": {
     "end_time": "2023-07-01T08:18:32.118944Z",
     "start_time": "2023-07-01T08:18:28.407815Z"
    }
   },
   "outputs": [],
   "source": [
    "def load_data(path: str) -> pd.DataFrame:\n",
    "    return pd.read_csv(path)\n",
    "\n",
    "\n",
    "df = load_data(env['data_path'])"
   ]
  },
  {
   "cell_type": "code",
   "execution_count": 20,
   "metadata": {},
   "outputs": [],
   "source": [
    "df = load_data(env['data_path'])\n",
    "df.drop('Loan_ID', axis=1, inplace=True)\n",
    "df['Loan_Amount_Requested'] = df['Loan_Amount_Requested'].str.replace(',','').astype(int)\n",
    "df.dropna(inplace=True)\n",
    "df.drop_duplicates(inplace=True)\n",
    "df.reset_index(inplace=True)"
   ]
  },
  {
   "cell_type": "code",
   "execution_count": 40,
   "metadata": {},
   "outputs": [],
   "source": [
    "# Create pipelines\n",
    "def create_pipeline(features):\n",
    "    num_selector = make_column_selector(dtype_include='number')\n",
    "    cat_selector = make_column_selector(dtype_include='category')\n",
    "\n",
    "    num_cols = num_selector(features)\n",
    "    cat_cols = cat_selector(features)\n",
    "\n",
    "    num_preprocessor = StandardScaler()\n",
    "    cat_preprocessor = OneHotEncoder()\n",
    "\n",
    "    preprocessor = ColumnTransformer([\n",
    "        ('StandardScaler', num_preprocessor, num_cols),\n",
    "        ('OneHotEncoder', cat_preprocessor, cat_cols)\n",
    "    ])\n",
    "\n",
    "    return make_pipeline(preprocessor, BaggingRegressor(LinearSVR(dual='auto')))\n",
    "    \n",
    "\n",
    "X = df.drop('Annual_Income', axis=1)\n",
    "y = df['Annual_Income']\n",
    "X_train, X_test, y_train, y_test = train_test_split(X, y, test_size=.2, random_state=42)\n",
    "pipe = create_pipeline(X)"
   ]
  },
  {
   "cell_type": "code",
   "execution_count": 41,
   "metadata": {},
   "outputs": [
    {
     "name": "stdout",
     "output_type": "stream",
     "text": [
      "Mean absolute error of training set: 42551.71688268458\n",
      "Mean absolute error of testing set: 42331.023349399096\n"
     ]
    }
   ],
   "source": [
    "with joblib.parallel_backend('ray'):\n",
    "    pipe.fit(X_train, y_train)\n",
    "# pipe.fit(X_train, y_train)\n",
    "\n",
    "pred = pipe.predict(X_train)\n",
    "print(f'Mean absolute error of training set: {mean_absolute_error(y_pred=pred, y_true=y_train)}')\n",
    "pred = pipe.predict(X_test)\n",
    "print(f'Mean absolute error of testing set: {mean_absolute_error(y_pred=pred, y_true=y_test)}')"
   ]
  },
  {
   "cell_type": "code",
   "execution_count": null,
   "metadata": {},
   "outputs": [],
   "source": [
    "class LinearRegressionModel(nn.Module):\n",
    "    def __init__(self, input_dim, output_dim):\n",
    "        super(LinearRegressionModel, self).__init__()\n",
    "        self.linear = nn.Linear(input_dim, output_dim)\n",
    "\n",
    "    def forward(self, x):\n",
    "        return self.linear(x)\n",
    "\n",
    "class LinearRegressionTorch:\n",
    "    def __init__(self, input_dim=1, output_dim=1, learning_rate=0.01, epochs=100):\n",
    "        self.model = LinearRegressionModel(input_dim, output_dim)\n",
    "        self.device = torch.device('mps' if torch.backends.mps.is_available() else 'cpu')\n",
    "        self.model = self.model.to(self.device)\n",
    "        self.criterion = nn.MSELoss()\n",
    "        self.learning_rate = learning_rate\n",
    "        self.optimizer = torch.optim.SGD(self.model.parameters(), lr=learning_rate)\n",
    "        self.epochs = epochs\n",
    "\n",
    "    def fit(self, X_train, y_train):\n",
    "        for epoch in range(self.epochs):\n",
    "            epoch += 1\n",
    "\n",
    "            inputs = torch.from_numpy(X_train).to(self.device)\n",
    "            labels = torch.from_numpy(y_train).to(self.device)\n",
    "\n",
    "            self.optimizer.zero_grad()\n",
    "\n",
    "            outputs = self.model(inputs)\n",
    "\n",
    "            loss = self.criterion(outputs, labels)\n",
    "            loss.backward()\n",
    "\n",
    "            self.optimizer.step()\n",
    "\n",
    "    def predict(self, X):\n",
    "        return self.model(torch.from_numpy(X).to(self.device)).data.numpy()\n",
    "\n",
    "\n",
    "model = LinearRegressionTorch()\n",
    "%time model.fit(X, y)"
   ]
  },
  {
   "cell_type": "code",
   "execution_count": null,
   "metadata": {},
   "outputs": [],
   "source": []
  }
 ],
 "metadata": {
  "kernelspec": {
   "display_name": "Python 3 (ipykernel)",
   "language": "python",
   "name": "python3"
  },
  "language_info": {
   "codemirror_mode": {
    "name": "ipython",
    "version": 3
   },
   "file_extension": ".py",
   "mimetype": "text/x-python",
   "name": "python",
   "nbconvert_exporter": "python",
   "pygments_lexer": "ipython3",
   "version": "3.11.4"
  }
 },
 "nbformat": 4,
 "nbformat_minor": 4
}
